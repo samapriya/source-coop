{
 "cells": [
  {
   "cell_type": "code",
   "execution_count": 5,
   "metadata": {
    "id": "R3jx3P-tkl_p"
   },
   "outputs": [
    {
     "data": {
      "text/html": [
       "<pre style=\"white-space:pre;overflow-x:auto;line-height:normal;font-family:Menlo,'DejaVu Sans Mono',consolas,'Courier New',monospace\">Requirement already satisfied: pure-eval in c:\\pythonenv\\spatial\\lib\\site-packages (from \n",
       "stack-data-&gt;ipython&gt;=6.1.0-&gt;ipywidgets) (0.2.2)\n",
       "</pre>\n"
      ],
      "text/plain": [
       "Requirement already satisfied: pure-eval in c:\\pythonenv\\spatial\\lib\\site-packages (from \n",
       "stack-data->ipython>=6.1.0->ipywidgets) (0.2.2)\n"
      ]
     },
     "metadata": {},
     "output_type": "display_data"
    },
    {
     "data": {
      "text/html": [
       "<pre style=\"white-space:pre;overflow-x:auto;line-height:normal;font-family:Menlo,'DejaVu Sans Mono',consolas,'Courier New',monospace\">Requirement already satisfied: six&gt;=1.12.0 in c:\\pythonenv\\spatial\\lib\\site-packages (from \n",
       "asttokens&gt;=2.1.0-&gt;stack-data-&gt;ipython&gt;=6.1.0-&gt;ipywidgets) (1.16.0)\n",
       "</pre>\n"
      ],
      "text/plain": [
       "Requirement already satisfied: six>=1.12.0 in c:\\pythonenv\\spatial\\lib\\site-packages (from \n",
       "asttokens>=2.1.0->stack-data->ipython>=6.1.0->ipywidgets) (1.16.0)\n"
      ]
     },
     "metadata": {},
     "output_type": "display_data"
    },
    {
     "data": {
      "text/html": [
       "<pre style=\"white-space:pre;overflow-x:auto;line-height:normal;font-family:Menlo,'DejaVu Sans Mono',consolas,'Courier New',monospace\">Installing collected packages: widgetsnbextension, jupyterlab-widgets, ipywidgets\n",
       "</pre>\n"
      ],
      "text/plain": [
       "Installing collected packages: widgetsnbextension, jupyterlab-widgets, ipywidgets\n"
      ]
     },
     "metadata": {},
     "output_type": "display_data"
    },
    {
     "data": {
      "text/html": [
       "<pre style=\"white-space:pre;overflow-x:auto;line-height:normal;font-family:Menlo,'DejaVu Sans Mono',consolas,'Courier New',monospace\">Successfully installed ipywidgets-8.1.5 jupyterlab-widgets-3.0.13 widgetsnbextension-4.0.13\n",
       "</pre>\n"
      ],
      "text/plain": [
       "Successfully installed ipywidgets-8.1.5 jupyterlab-widgets-3.0.13 widgetsnbextension-4.0.13\n"
      ]
     },
     "metadata": {},
     "output_type": "display_data"
    },
    {
     "data": {
      "text/html": [
       "<pre style=\"white-space:pre;overflow-x:auto;line-height:normal;font-family:Menlo,'DejaVu Sans Mono',consolas,'Courier New',monospace\">   <span style=\"color: #008080; text-decoration-color: #008080; font-weight: bold\">es_cm.parquet</span> <span style=\"color: #f92672; text-decoration-color: #f92672\">━━━━━</span><span style=\"color: #3a3a3a; text-decoration-color: #3a3a3a\">╺━━━━━━━━━━━━━━━━━━━━━━━━━━━━━━━━━━━━━━━━━━━━</span>    <span style=\"color: #800080; text-decoration-color: #800080\">10.4%</span>   • <span style=\"color: #008000; text-decoration-color: #008000\">0.2/2.3 GB   </span> • <span style=\"color: #800000; text-decoration-color: #800000\">3.5 MB/s</span> • <span style=\"color: #008080; text-decoration-color: #008080\">0:09:51</span>\n",
       "   <span style=\"color: #008080; text-decoration-color: #008080; font-weight: bold\">es_cm.pmtiles</span> <span style=\"color: #f92672; text-decoration-color: #f92672\">━━━━━━━━━━━╸</span><span style=\"color: #3a3a3a; text-decoration-color: #3a3a3a\">━━━━━━━━━━━━━━━━━━━━━━━━━━━━━━━━━━━━━━</span>    <span style=\"color: #800080; text-decoration-color: #800080\">23.0%</span>   • <span style=\"color: #008000; text-decoration-color: #008000\">0.3/1.1 GB   </span> • <span style=\"color: #800000; text-decoration-color: #800000\">5.4 MB/s</span> • <span style=\"color: #008080; text-decoration-color: #008080\">0:02:42</span>\n",
       " <span style=\"color: #008080; text-decoration-color: #008080; font-weight: bold\">collection.json</span> <span style=\"color: #729c1f; text-decoration-color: #729c1f\">━━━━━━━━━━━━━━━━━━━━━━━━━━━━━━━━━━━━━━━━━━━━━━━━━━</span>    <span style=\"color: #800080; text-decoration-color: #800080\">100.0%</span>  • <span style=\"color: #008000; text-decoration-color: #008000\">2.3/2.3 kB   </span> • <span style=\"color: #800000; text-decoration-color: #800000\">?       </span> • <span style=\"color: #008080; text-decoration-color: #008080\">0:00:00</span>\n",
       "       <span style=\"color: #008080; text-decoration-color: #008080; font-weight: bold\">README.md</span> <span style=\"color: #729c1f; text-decoration-color: #729c1f\">━━━━━━━━━━━━━━━━━━━━━━━━━━━━━━━━━━━━━━━━━━━━━━━━━━</span>    <span style=\"color: #800080; text-decoration-color: #800080\">100.0%</span>  • <span style=\"color: #008000; text-decoration-color: #008000\">1.9/1.9 kB   </span> • <span style=\"color: #800000; text-decoration-color: #800000\">?       </span> • <span style=\"color: #008080; text-decoration-color: #008080\">0:00:00</span>\n",
       "     <span style=\"color: #008080; text-decoration-color: #008080; font-weight: bold\">LICENSE.txt</span> <span style=\"color: #729c1f; text-decoration-color: #729c1f\">━━━━━━━━━━━━━━━━━━━━━━━━━━━━━━━━━━━━━━━━━━━━━━━━━━</span>    <span style=\"color: #800080; text-decoration-color: #800080\">100.0%</span>  • <span style=\"color: #008000; text-decoration-color: #008000\">274/274 bytes</span> • <span style=\"color: #800000; text-decoration-color: #800000\">?       </span> • <span style=\"color: #008080; text-decoration-color: #008080\">0:00:00</span>\n",
       "</pre>\n"
      ],
      "text/plain": [
       "   \u001b[1;36mes_cm.parquet\u001b[0m \u001b[38;2;249;38;114m━━━━━\u001b[0m\u001b[38;5;237m╺\u001b[0m\u001b[38;5;237m━━━━━━━━━━━━━━━━━━━━━━━━━━━━━━━━━━━━━━━━━━━━\u001b[0m    \u001b[35m10.4%\u001b[0m   • \u001b[32m0.2/2.3 GB   \u001b[0m • \u001b[31m3.5 MB/s\u001b[0m • \u001b[36m0:09:51\u001b[0m\n",
       "   \u001b[1;36mes_cm.pmtiles\u001b[0m \u001b[38;2;249;38;114m━━━━━━━━━━━\u001b[0m\u001b[38;2;249;38;114m╸\u001b[0m\u001b[38;5;237m━━━━━━━━━━━━━━━━━━━━━━━━━━━━━━━━━━━━━━\u001b[0m    \u001b[35m23.0%\u001b[0m   • \u001b[32m0.3/1.1 GB   \u001b[0m • \u001b[31m5.4 MB/s\u001b[0m • \u001b[36m0:02:42\u001b[0m\n",
       " \u001b[1;36mcollection.json\u001b[0m \u001b[38;2;114;156;31m━━━━━━━━━━━━━━━━━━━━━━━━━━━━━━━━━━━━━━━━━━━━━━━━━━\u001b[0m    \u001b[35m100.0%\u001b[0m  • \u001b[32m2.3/2.3 kB   \u001b[0m • \u001b[31m?       \u001b[0m • \u001b[36m0:00:00\u001b[0m\n",
       "       \u001b[1;36mREADME.md\u001b[0m \u001b[38;2;114;156;31m━━━━━━━━━━━━━━━━━━━━━━━━━━━━━━━━━━━━━━━━━━━━━━━━━━\u001b[0m    \u001b[35m100.0%\u001b[0m  • \u001b[32m1.9/1.9 kB   \u001b[0m • \u001b[31m?       \u001b[0m • \u001b[36m0:00:00\u001b[0m\n",
       "     \u001b[1;36mLICENSE.txt\u001b[0m \u001b[38;2;114;156;31m━━━━━━━━━━━━━━━━━━━━━━━━━━━━━━━━━━━━━━━━━━━━━━━━━━\u001b[0m    \u001b[35m100.0%\u001b[0m  • \u001b[32m274/274 bytes\u001b[0m • \u001b[31m?       \u001b[0m • \u001b[36m0:00:00\u001b[0m\n"
      ]
     },
     "metadata": {},
     "output_type": "display_data"
    }
   ],
   "source": [
    "!pip install source-coop\n",
    "!pip install ipywidgets"
   ]
  },
  {
   "cell_type": "code",
   "execution_count": 1,
   "metadata": {
    "colab": {
     "base_uri": "https://localhost:8080/"
    },
    "id": "3-88pZcqkoEb",
    "outputId": "21c79b55-d467-46b6-9021-4bfeef0b4bdc"
   },
   "outputs": [
    {
     "name": "stdout",
     "output_type": "stream",
     "text": [
      "Found 9 featured repositories:\n",
      "- Overture Maps - Fused-partitioned by fused\n",
      "- Land, carbon and biodiversity data for supply chain impact calculation by vizzuality\n",
      "- National Wetlands Inventory by giswqs\n",
      "- Google-Microsoft-OSM Open Buildings - combined by VIDA by vida\n",
      "- Energy Performance Certificate Ratings (Domestic) - England and Wales by addresscloud\n",
      "- RapidAI4EO by planet\n",
      "- Fields of The World (FTW) by kerner-lab\n",
      "- Multi-Temporal Crop Classification with HLS Imagery across CONUS  by clarkcga\n",
      "- Archive of data.gov by harvard-lil\n"
     ]
    }
   ],
   "source": [
    "from source_coop import SourceCoopClient\n",
    "\n",
    "def list_featured_repositories():\n",
    "    client = SourceCoopClient()\n",
    "\n",
    "    # Get featured repositories\n",
    "    featured = client.api.get_repositories(featured=True)\n",
    "\n",
    "    if featured and featured.get('repositories'):\n",
    "        print(f\"Found {len(featured['repositories'])} featured repositories:\")\n",
    "\n",
    "        for repo in featured['repositories']:\n",
    "            title = repo.get('meta', {}).get('title', 'Untitled')\n",
    "            account = repo.get('account_id', 'Unknown')\n",
    "\n",
    "            print(f\"- {title} by {account}\")\n",
    "    else:\n",
    "        print(\"No featured repositories found.\")\n",
    "\n",
    "if __name__ == \"__main__\":\n",
    "    list_featured_repositories()"
   ]
  },
  {
   "cell_type": "markdown",
   "metadata": {
    "id": "5vNwrpTuk6FS"
   },
   "source": [
    "#### Search Repos\n",
    "This code snippet will allow you to search for repos by tags. Here we are using the tag \"Sentinel\""
   ]
  },
  {
   "cell_type": "code",
   "execution_count": 2,
   "metadata": {
    "colab": {
     "base_uri": "https://localhost:8080/"
    },
    "id": "RsGtRzkCkuxR",
    "outputId": "ae67962f-4ee5-410c-c4b8-79f343043e22"
   },
   "outputs": [
    {
     "name": "stdout",
     "output_type": "stream",
     "text": [
      "Found 10 repositories matching 'fiboa':\n",
      "- Open Administrative Boundaries by cholmes\n",
      "Repo Url :https://source.coop/repositories/cholmes/admin-boundaries/\n",
      "  Tags: geoparquet, admin, countries, overture\n",
      "- Spain Navarra Crop fields by fiboa\n",
      "Repo Url :https://source.coop/repositories/fiboa/es-nc/\n",
      "  Tags: navarra, spain, sigpac, fiboa, field boundaries, geoparquet, vector, pmtiles\n",
      "- Spain Castilla-La Mancha Crop fields by fiboa\n",
      "Repo Url :https://source.coop/repositories/fiboa/es-cm/\n",
      "  Tags: castillalamancha, spain, sigpac, fiboa, field boundaries, geoparquet, vector, pmtiles\n",
      "- Gallicia SIXPAC Crop Fields by fiboa\n",
      "Repo Url :https://source.coop/repositories/fiboa/es-ga/\n",
      "  Tags: galicia, spain, sigpac, sixpac, fiboa, field boundaries, geoparquet, vector, pmtiles\n",
      "- Comunidad de Madrid Crop Fields by fiboa\n",
      "Repo Url :https://source.coop/repositories/fiboa/es-md/\n",
      "  Tags: madrid, spain, sigpac, fiboa, field boundaries, geoparquet, vector, pmtiles\n",
      "- Spain Cantabria Crop fields by fiboa\n",
      "Repo Url :https://source.coop/repositories/fiboa/es-cb/\n",
      "  Tags: cantabria, spain, sigpac, fiboa, field boundaries, geoparquet, vector, pmtiles\n",
      "- Spain Agricultural Plots in the Valencian Community (SIGPAC) by fiboa\n",
      "Repo Url :https://source.coop/repositories/fiboa/es-vc/\n",
      "  Tags: valencia, spain, sigpac, fiboa, field boundaries, geoparquet, vector, pmtiles\n",
      "- Spain Canary Islands Crop fields by fiboa\n",
      "Repo Url :https://source.coop/repositories/fiboa/es-cn/\n",
      "  Tags: canary islands, spain, fiboa, field boundaries, geoparquet, vector, pmtiles\n",
      "- Spain Balearic Islands Crop fields by fiboa\n",
      "Repo Url :https://source.coop/repositories/fiboa/es-pm/\n",
      "  Tags: balearic islands, spain, sigpac, fiboa, field boundaries, geoparquet, vector, pmtiles\n",
      "- Spain Extremadura Crop fields by fiboa\n",
      "Repo Url :https://source.coop/repositories/fiboa/es-ex/\n",
      "  Tags: extremadura, spain, fiboa, field boundaries, sigpac, geoparquet, vector, pmtiles\n"
     ]
    }
   ],
   "source": [
    "from source_coop import SourceCoopClient\n",
    "\n",
    "def get_prefix(data_dict):\n",
    "      outer_key = next(iter(data_dict))\n",
    "      prefix = data_dict[outer_key]['prefix']\n",
    "      return prefix\n",
    "\n",
    "def search_repositories(query, limit=10):\n",
    "    client = SourceCoopClient()\n",
    "\n",
    "    # Search for repositories\n",
    "    results = client.api.get_repositories(search=query, limit=limit)\n",
    "\n",
    "    if results and results.get('repositories'):\n",
    "        print(f\"Found {len(results['repositories'])} repositories matching '{query}':\")\n",
    "\n",
    "        for repo in results['repositories']:\n",
    "            repo_prefix = get_prefix(repo.get('data', 'Unknown').get('mirrors','Unknown'))\n",
    "            title = repo.get('meta', {}).get('title', 'Untitled')\n",
    "            account = repo.get('account_id', 'Unknown')\n",
    "            tags = \", \".join(repo.get('meta', {}).get('tags', []))\n",
    "\n",
    "            print(f\"- {title} by {account}\")\n",
    "            print(f\"Repo Url :https://source.coop/repositories/{repo_prefix}\")\n",
    "            if tags:\n",
    "                print(f\"  Tags: {tags}\")\n",
    "    else:\n",
    "        print(f\"No repositories found matching '{query}'.\")\n",
    "\n",
    "if __name__ == \"__main__\":\n",
    "    search_repositories(\"fiboa\")"
   ]
  },
  {
   "cell_type": "code",
   "execution_count": 6,
   "metadata": {
    "colab": {
     "base_uri": "https://localhost:8080/",
     "height": 321
    },
    "id": "o3JZlDTIk43c",
    "outputId": "cf31a5e9-0e9b-4053-e690-1094d8836fdf"
   },
   "outputs": [
    {
     "data": {
      "text/html": [
       "<pre style=\"white-space:pre;overflow-x:auto;line-height:normal;font-family:Menlo,'DejaVu Sans Mono',consolas,'Courier New',monospace\">   <span style=\"color: #008080; text-decoration-color: #008080; font-weight: bold\">es_cm.parquet</span> <span style=\"color: #f92672; text-decoration-color: #f92672\">━━━━━━━━━</span><span style=\"color: #3a3a3a; text-decoration-color: #3a3a3a\">╺━━━━━━━━━━━━━━━━━━━━━━━━━━━━━━━━━━━━━━━━</span>    <span style=\"color: #800080; text-decoration-color: #800080\">18.6%</span>   • <span style=\"color: #008000; text-decoration-color: #008000\">0.4/2.3 GB   </span> • <span style=\"color: #800000; text-decoration-color: #800000\">3.4 MB/s</span> • <span style=\"color: #008080; text-decoration-color: #008080\">0:09:12</span>\n",
       "   <span style=\"color: #008080; text-decoration-color: #008080; font-weight: bold\">es_cm.pmtiles</span> <span style=\"color: #f92672; text-decoration-color: #f92672\">━━━━━━━━━━━━━━━━━━╸</span><span style=\"color: #3a3a3a; text-decoration-color: #3a3a3a\">━━━━━━━━━━━━━━━━━━━━━━━━━━━━━━━</span>    <span style=\"color: #800080; text-decoration-color: #800080\">37.8%</span>   • <span style=\"color: #008000; text-decoration-color: #008000\">0.4/1.1 GB   </span> • <span style=\"color: #800000; text-decoration-color: #800000\">3.0 MB/s</span> • <span style=\"color: #008080; text-decoration-color: #008080\">0:03:59</span>\n",
       " <span style=\"color: #008080; text-decoration-color: #008080; font-weight: bold\">collection.json</span> <span style=\"color: #729c1f; text-decoration-color: #729c1f\">━━━━━━━━━━━━━━━━━━━━━━━━━━━━━━━━━━━━━━━━━━━━━━━━━━</span>    <span style=\"color: #800080; text-decoration-color: #800080\">100.0%</span>  • <span style=\"color: #008000; text-decoration-color: #008000\">2.3/2.3 kB   </span> • <span style=\"color: #800000; text-decoration-color: #800000\">?       </span> • <span style=\"color: #008080; text-decoration-color: #008080\">0:00:00</span>\n",
       "       <span style=\"color: #008080; text-decoration-color: #008080; font-weight: bold\">README.md</span> <span style=\"color: #729c1f; text-decoration-color: #729c1f\">━━━━━━━━━━━━━━━━━━━━━━━━━━━━━━━━━━━━━━━━━━━━━━━━━━</span>    <span style=\"color: #800080; text-decoration-color: #800080\">100.0%</span>  • <span style=\"color: #008000; text-decoration-color: #008000\">1.9/1.9 kB   </span> • <span style=\"color: #800000; text-decoration-color: #800000\">?       </span> • <span style=\"color: #008080; text-decoration-color: #008080\">0:00:00</span>\n",
       "     <span style=\"color: #008080; text-decoration-color: #008080; font-weight: bold\">LICENSE.txt</span> <span style=\"color: #729c1f; text-decoration-color: #729c1f\">━━━━━━━━━━━━━━━━━━━━━━━━━━━━━━━━━━━━━━━━━━━━━━━━━━</span>    <span style=\"color: #800080; text-decoration-color: #800080\">100.0%</span>  • <span style=\"color: #008000; text-decoration-color: #008000\">274/274 bytes</span> • <span style=\"color: #800000; text-decoration-color: #800000\">?       </span> • <span style=\"color: #008080; text-decoration-color: #008080\">0:00:00</span>\n",
       "</pre>\n"
      ],
      "text/plain": [
       "   \u001b[1;36mes_cm.parquet\u001b[0m \u001b[38;2;249;38;114m━━━━━━━━━\u001b[0m\u001b[38;5;237m╺\u001b[0m\u001b[38;5;237m━━━━━━━━━━━━━━━━━━━━━━━━━━━━━━━━━━━━━━━━\u001b[0m    \u001b[35m18.6%\u001b[0m   • \u001b[32m0.4/2.3 GB   \u001b[0m • \u001b[31m3.4 MB/s\u001b[0m • \u001b[36m0:09:12\u001b[0m\n",
       "   \u001b[1;36mes_cm.pmtiles\u001b[0m \u001b[38;2;249;38;114m━━━━━━━━━━━━━━━━━━\u001b[0m\u001b[38;2;249;38;114m╸\u001b[0m\u001b[38;5;237m━━━━━━━━━━━━━━━━━━━━━━━━━━━━━━━\u001b[0m    \u001b[35m37.8%\u001b[0m   • \u001b[32m0.4/1.1 GB   \u001b[0m • \u001b[31m3.0 MB/s\u001b[0m • \u001b[36m0:03:59\u001b[0m\n",
       " \u001b[1;36mcollection.json\u001b[0m \u001b[38;2;114;156;31m━━━━━━━━━━━━━━━━━━━━━━━━━━━━━━━━━━━━━━━━━━━━━━━━━━\u001b[0m    \u001b[35m100.0%\u001b[0m  • \u001b[32m2.3/2.3 kB   \u001b[0m • \u001b[31m?       \u001b[0m • \u001b[36m0:00:00\u001b[0m\n",
       "       \u001b[1;36mREADME.md\u001b[0m \u001b[38;2;114;156;31m━━━━━━━━━━━━━━━━━━━━━━━━━━━━━━━━━━━━━━━━━━━━━━━━━━\u001b[0m    \u001b[35m100.0%\u001b[0m  • \u001b[32m1.9/1.9 kB   \u001b[0m • \u001b[31m?       \u001b[0m • \u001b[36m0:00:00\u001b[0m\n",
       "     \u001b[1;36mLICENSE.txt\u001b[0m \u001b[38;2;114;156;31m━━━━━━━━━━━━━━━━━━━━━━━━━━━━━━━━━━━━━━━━━━━━━━━━━━\u001b[0m    \u001b[35m100.0%\u001b[0m  • \u001b[32m274/274 bytes\u001b[0m • \u001b[31m?       \u001b[0m • \u001b[36m0:00:00\u001b[0m\n"
      ]
     },
     "metadata": {},
     "output_type": "display_data"
    }
   ],
   "source": [
    "import asyncio\n",
    "import nest_asyncio\n",
    "from source_coop import SourceCoopClient\n",
    "from source_coop.s3 import SourceCoopS3\n",
    "from source_coop.commands.download import download_s3_objects_async\n",
    "\n",
    "# Apply nest_asyncio patch\n",
    "nest_asyncio.apply()\n",
    "\n",
    "async def download_repository_async(repository_url, output_dir=None, file_type=None):\n",
    "    client = SourceCoopClient()\n",
    "\n",
    "    if repository_url.startswith(\"http\"):\n",
    "        s3_url = SourceCoopS3.convert_repo_url_to_s3_url(repository_url)\n",
    "        if not s3_url:\n",
    "            print(\"Failed to convert repository URL to S3 URL.\")\n",
    "            return False\n",
    "    else:\n",
    "        s3_url = repository_url\n",
    "\n",
    "    print(f\"Using S3 URL: {s3_url}\")\n",
    "\n",
    "    if not output_dir:\n",
    "        _, prefix = SourceCoopS3.parse_s3_url(s3_url)\n",
    "        repo_name = prefix.strip('/').split('/')[-1] if prefix else \"download\"\n",
    "        output_dir = f\"./source-coop-{repo_name}\"\n",
    "\n",
    "    print(f\"Using output directory: {output_dir}\")\n",
    "\n",
    "    print(\"Listing objects...\")\n",
    "    objects, summary = client.s3.list_objects_with_summary(s3_url, file_type=file_type)\n",
    "\n",
    "    if not objects:\n",
    "        print(\"No objects found to download.\")\n",
    "        return False\n",
    "\n",
    "    print(f\"\\nFound {summary['total_files']} files ({summary['total_size_human']})\")\n",
    "\n",
    "    successful = await download_s3_objects_async(\n",
    "        objects, output_dir, max_concurrent=10, multipart_count=8, quiet=False\n",
    "    )\n",
    "\n",
    "    print(f\"\\nDownload complete. {successful} files downloaded successfully.\")\n",
    "    return successful > 0\n",
    "\n",
    "def download_repository_colab(repository_url, output_dir=None, file_type=None):\n",
    "    loop = asyncio.get_event_loop()\n",
    "    return loop.run_until_complete(download_repository_async(repository_url, output_dir, file_type))\n",
    "\n",
    "# Example Usage:\n",
    "download_repository_colab(\"https://source.coop/repositories/fiboa/es-cm/\")\n"
   ]
  },
  {
   "cell_type": "code",
   "execution_count": null,
   "metadata": {
    "id": "1xJNhDZvnAYe"
   },
   "outputs": [],
   "source": []
  }
 ],
 "metadata": {
  "colab": {
   "provenance": []
  },
  "kernelspec": {
   "display_name": "Python 3 (ipykernel)",
   "language": "python",
   "name": "python3"
  },
  "language_info": {
   "codemirror_mode": {
    "name": "ipython",
    "version": 3
   },
   "file_extension": ".py",
   "mimetype": "text/x-python",
   "name": "python",
   "nbconvert_exporter": "python",
   "pygments_lexer": "ipython3",
   "version": "3.11.1"
  }
 },
 "nbformat": 4,
 "nbformat_minor": 4
}
